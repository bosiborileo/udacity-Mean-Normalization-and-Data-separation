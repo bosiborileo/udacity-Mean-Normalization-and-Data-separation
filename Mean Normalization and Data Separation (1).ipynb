{
 "cells": [
  {
   "cell_type": "markdown",
   "metadata": {},
   "source": [
    "# Mean Normalization\n",
    "\n",
    "In machine learning we use large amounts of data to train our models. Some machine learning algorithms may require that the data is *normalized* in order to work correctly. The idea of normalization, also known as *feature scaling*, is to ensure that all the data is on a similar scale, *i.e.* that all the data takes on a similar range of values. For example, we might have a dataset that has values between 0 and 5,000. By normalizing the data we can make the range of values be between 0 and 1.\n",
    "\n",
    "In this lab, you will be performing a different kind of feature scaling known as *mean normalization*. Mean normalization will scale the data, but instead of making the values be between 0 and 1, it will distribute the values evenly in some small interval around zero. For example, if we have a dataset that has values between 0 and 5,000, after mean normalization the range of values will be distributed in some small range around 0, for example between -3 to 3. Because the range of values are distributed evenly around zero, this guarantees that the average (mean) of all elements will be zero. Therefore, when you perform *mean normalization* your data will not only be scaled but it will also have an average of zero. \n",
    "\n",
    "# To Do:\n",
    "\n",
    "You will start by importing NumPy and creating a rank 2 ndarray of random integers between 0 and 5,000 (inclusive) with 1000 rows and 20 columns. This array will simulate a dataset with a wide range of values. Fill in the code below"
   ]
  },
  {
   "cell_type": "code",
   "execution_count": 2,
   "metadata": {},
   "outputs": [
    {
     "name": "stdout",
     "output_type": "stream",
     "text": [
      "(1000, 20)\n"
     ]
    }
   ],
   "source": [
    "# import NumPy into Python\n",
    "import numpy as np\n",
    "\n",
    "\n",
    "# Create a 1000 x 20 ndarray with random integers in the half-open interval [0, 5001).\n",
    "X = np.random.randint(0, 5001, (1000, 20))\n",
    "\n",
    "# print the shape of X\n",
    "print(X.shape)\n"
   ]
  },
  {
   "cell_type": "markdown",
   "metadata": {},
   "source": [
    "Now that you created the array we will mean normalize it. We will perform mean normalization using the following equation:\n",
    "\n",
    "$\\mbox{Norm_Col}_i = \\frac{\\mbox{Col}_i - \\mu_i}{\\sigma_i}$\n",
    "\n",
    "where $\\mbox{Col}_i$ is the $i$th column of $X$, $\\mu_i$ is average of the values in the $i$th column of $X$, and $\\sigma_i$ is the standard deviation of the values in the $i$th column of $X$. In other words, mean normalization is performed by subtracting from each column of $X$ the average of its values, and then by dividing by the standard deviation of its values. In the space below, you will first calculate the average and standard deviation of each column of $X$. "
   ]
  },
  {
   "cell_type": "code",
   "execution_count": 3,
   "metadata": {},
   "outputs": [
    {
     "name": "stdout",
     "output_type": "stream",
     "text": [
      "2513.58425\n",
      "[1450.99891301 1431.90989455 1446.30950344 1443.63522327 1453.06277037\n",
      " 1431.23093193 1465.2432951  1456.07994938 1425.24488662 1453.212906\n",
      " 1438.78571797 1465.01610489 1423.41752048 1441.48984526 1430.25956103\n",
      " 1449.72547773 1445.06359317 1428.09763859 1453.36129786 1422.29621932]\n"
     ]
    }
   ],
   "source": [
    "# Average of the values in each column of X\n",
    "ave_cols = np.average(X, axis=None, weights=None, returned=False)\n",
    "print(ave_cols)\n",
    "# Standard Deviation of the values in each column of X \n",
    "std_cols = np.std(X, axis=0)\n",
    "\n",
    "print(std_cols)\n"
   ]
  },
  {
   "cell_type": "markdown",
   "metadata": {},
   "source": [
    "If you have done the above calculations correctly, then `ave_cols` and `std_cols`, should both be vectors with shape `(20,)` since $X$ has 20 columns. You can verify this by filling the code below:"
   ]
  },
  {
   "cell_type": "code",
   "execution_count": 4,
   "metadata": {},
   "outputs": [
    {
     "name": "stdout",
     "output_type": "stream",
     "text": [
      "()\n",
      "(20,)\n"
     ]
    }
   ],
   "source": [
    "# Print the shape of ave_cols\n",
    "print(ave_cols.shape)\n",
    "\n",
    "# Print the shape of std_cols\n",
    "print(std_cols.shape)"
   ]
  },
  {
   "cell_type": "markdown",
   "metadata": {},
   "source": [
    "You can now take advantage of Broadcasting to calculate the mean normalized version of $X$ in just one line of code using the equation above. Fill in the code below"
   ]
  },
  {
   "cell_type": "code",
   "execution_count": 5,
   "metadata": {},
   "outputs": [
    {
     "name": "stdout",
     "output_type": "stream",
     "text": [
      "[[1.34596931 3.38429116 0.12791176 ... 1.49849698 0.7080139  1.69584927]\n",
      " [0.54169579 3.27744086 3.17843448 ... 1.71206781 1.65960109 3.14632067]\n",
      " [0.15920067 1.81785181 1.4899992  ... 2.88845797 0.91512001 3.49575562]\n",
      " ...\n",
      " [1.88766509 0.35896113 1.38282988 ... 0.05251742 0.79470948 0.93370142]\n",
      " [0.02894558 2.87099071 0.61812496 ... 2.70499712 2.24789253 1.73944075]\n",
      " [0.47760201 0.27376024 0.63126184 ... 0.18206038 0.93989017 3.4542734 ]]\n"
     ]
    }
   ],
   "source": [
    "# Mean normalize X\n",
    "X_norm = X / np.std(X, axis=0)\n",
    "\n",
    "print(X_norm)"
   ]
  },
  {
   "cell_type": "markdown",
   "metadata": {},
   "source": [
    "If you have performed the mean normalization correctly, then the average of all the elements in $X_{\\tiny{\\mbox{norm}}}$ should be close to zero, and they should be evenly distributed in some small interval around zero. You can verify this by filing the code below:"
   ]
  },
  {
   "cell_type": "code",
   "execution_count": 8,
   "metadata": {},
   "outputs": [
    {
     "name": "stdout",
     "output_type": "stream",
     "text": [
      "1.7425083144761098\n",
      "The average of the minimum value in each column of X_norm is 0.005058930644025113\n",
      "The average of the maximum value in each column of X_norm is 3.462071771941089\n"
     ]
    }
   ],
   "source": [
    "# Print the average of all the values of X_norm\n",
    "\n",
    "average = np.average(X_norm)\n",
    "\n",
    "print(average)\n",
    "# Print the average of the minimum value in each column of X_norm\n",
    "min_in_cols = np.min(X_norm, axis= 0)\n",
    "average = np.mean(min_in_cols)\n",
    "print(\"The average of the minimum value in each column of X_norm is\", average)\n",
    "\n",
    "\n",
    "\n",
    "# Print the average of the maximum value in each column of X_norm\n",
    "max_in_cols = np.max(X_norm, axis=0)\n",
    "average = np.mean(max_in_cols)\n",
    "print(\"The average of the maximum value in each column of X_norm is\", average)\n"
   ]
  },
  {
   "cell_type": "markdown",
   "metadata": {},
   "source": [
    "You should note that since $X$ was created using random integers, the above values will vary. \n",
    "\n",
    "# Data Separation\n",
    "\n",
    "After the data has been mean normalized, it is customary in machine learnig to split our dataset into three sets:\n",
    "\n",
    "1. A Training Set\n",
    "2. A Cross Validation Set\n",
    "3. A Test Set\n",
    "\n",
    "The dataset is usually divided such that the Training Set contains 60% of the data, the Cross Validation Set contains 20% of the data, and the Test Set contains 20% of the data. \n",
    "\n",
    "In this part of the lab you will separate `X_norm` into a Training Set, Cross Validation Set, and a Test Set. Each data set will contain rows of `X_norm` chosen at random, making sure that we don't pick the same row twice. This will guarantee that all the rows of `X_norm` are chosen and randomly distributed among the three new sets.\n",
    "\n",
    "You will start by creating a rank 1 ndarray that contains a random permutation of the row indices of `X_norm`. You can do this by using the `np.random.permutation()` function. The `np.random.permutation(N)` function creates a random permutation of integers from 0 to `N - 1`. Let's see an example:"
   ]
  },
  {
   "cell_type": "code",
   "execution_count": null,
   "metadata": {},
   "outputs": [],
   "source": [
    "# We create a random permutation of integers 0 to 4\n",
    "np.random.permutation(5)"
   ]
  },
  {
   "cell_type": "markdown",
   "metadata": {},
   "source": [
    "# To Do\n",
    "\n",
    "In the space below create a rank 1 ndarray that contains a random permutation of the row indices of `X_norm`. You can do this in one line of code by extracting the number of rows of `X_norm` using the `shape` attribute and then passing it to the  `np.random.permutation()` function. Remember the `shape` attribute returns a tuple with two numbers in the form `(rows,columns)`."
   ]
  },
  {
   "cell_type": "code",
   "execution_count": 9,
   "metadata": {},
   "outputs": [
    {
     "name": "stdout",
     "output_type": "stream",
     "text": [
      "[555 299 611 899 190 737 379 814 924 721 243  16 888 347 803 254 891 315\n",
      " 137 651 818 726 722 138 727 495 106 627 584 905  35 472 904  44 788 704\n",
      "  93 995 268 573  87 761 471 731 346 135 393 199  74 127 357 202 497 978\n",
      " 822 311 797 851 140 656 869 340 742 612 988 481 867 680 177 361 173 150\n",
      " 209 147 939 856 229 907 483  12 475 649 353 720 446 431 499 736  59 990\n",
      " 104 595 146 285 863 819 713  84 945 777 385 300 437 873 143 717 642 113\n",
      " 992 171 971 670  69 594 432 596 382 531 227 328 666 575 943  42 233 602\n",
      " 181 614 544 480 947 770  39 946 417 800 675 433 169 326 378 148 505 660\n",
      "  72 194 961 884 370  50 936 689 120  98 205 706 157 628 607 592 458 816\n",
      " 479 593 695 482 979 145 752 567 599 944 118  13 287 206 170 957 312 732\n",
      " 806 685 342 696 890  32 121   0 420 375 404 778 674 430 376  99 837 500\n",
      " 320 250 493 175 841 349 180 621 690 558   5  54 855 112 847 183  46 377\n",
      "  52 668 987 405 386 316 136 810 322 832 184 407 126 256 415 697  51 251\n",
      "  70 264 271 161 915 548 763 416 246 383 839 681 581 629  37 391 741 154\n",
      " 682 465 872 360 842 972  88 801 332 749 941   8  61 582  71 247  76 178\n",
      " 875 503 225 255 655 738 219 552 730 789 276 672 643 716 284 358 850 396\n",
      " 698 684 700 835 435 566 753  15 397  68 290 403 692 156 174 646 324 846\n",
      " 569 261 496 408 860 372 543  48 634 794  53 768 133 932 579  85 750 570\n",
      " 606 892 586 796 450 494 963 673  24 327 160 782 400 811 600 456 836  92\n",
      " 440 857 919 735 585 262 516 182 445 577 795 265 517 755 100 339 928 859\n",
      " 365 650  77 141  27 203 909 938 214 622 151 918 303 740 533 790 207 793\n",
      " 747 547 105 387 230 525 876 111 923 258 134 962 676 166 457 523 441  18\n",
      " 401  26 410 162  14  41 724 466 297 462 922 317 259  94  34 306   7 514\n",
      " 323 973 853 934 798 976 337 539 703 192 804 784 652 683 969 827  29 356\n",
      " 590 309 589 829 605  21 213 232 693 534 345 490 527 298 759 955 921 653\n",
      " 310 989  40 522 871 686 701 222 395 723 824  20 669 447 917 220 745 110\n",
      " 201 288 889 253 149 451 314 540 390 714 381 901 406  55 715 453 882 330\n",
      " 280 519 236 618 195 352  67   3 163 128 609 501 598 986 484 366 545  45\n",
      " 549 587 808 371 489 960  62 953  64 929 318 224 374 786 760 215 952 200\n",
      " 439 574 282 791   6 351 528 122 937 399 739 129 710 603 124 718 223 301\n",
      " 234 802 940 153 341 996 238 242 508 305 654 998 885 274  66 633 898  83\n",
      " 858  91 601 123 903 468 373 488 506 521 272 707 204 132 492 355 444 636\n",
      " 930 576 463 354 197 369 821 578 338 423 117 424 767 536 910 524 641 830\n",
      " 769 350  81 984 452 509  22 927  49 436 428 231  80 571 671 831 691 210\n",
      " 392 237 553 464 419 659   9 877 896 942 334 384 491 335 235 249 102 638\n",
      " 443 532 625 677 263 902 394 617  63 422 461 294 470 362   4 765 125 632\n",
      " 985 702 158 279 130 951 591 414 217 308 838 413  47 948 958  33 925 289\n",
      " 459  17 267 380 870 746 568 825 631 550 368 608 559 474 743 560  95  75\n",
      " 114 425 216 557 826 773 849 912 864 966 344 980 329 751   1 266 935 920\n",
      " 933 754 991 109 131 239 498 546 931 518  10 155 861 421 613 409 844 775\n",
      " 785  57 968 240 993 186 411 286 296  19 196 442 848 719 325 728 402   2\n",
      " 228 744 812 823 187 119 167 293 967 333 198 188 610 657 994 319 623 748\n",
      " 551 389 116 779  90 817 412 476  31  23 880 530 144 914 336 107 616 208\n",
      " 645 257 699 164 331 427 438 473 780 893 520 434 388 218 854 894 886 535\n",
      "  28 883 292  78 667 418 477 762 275 635 965 165  96 467 460 949 982 658\n",
      " 101 260 630 572 245 248 805 604 563 694 487 711 756 283  97 708 278 771\n",
      "  25 845 561 897 485 478 537 583 588 661 152 211 513 911 454 556 142 619\n",
      " 926 252 281 662 615 179 878 507 562 959 221 866 712 277 900 343 620 367\n",
      " 647  36 241 512 725 833 813 639 185 269 295 799 363 554 981 564 637 964\n",
      " 887 502 774 511 541 975 486 529 729 688 983 956 542 504 159 665 663 881\n",
      " 172  56 526  73  82 429 455 758 664  43 733 139  86 580 597 874 193 868\n",
      " 469 678 895 398 103 108 364 448 515 970 191 359 244 304 950 781 565 908\n",
      "  11 828  38 757 348 764 807 772 705 783 168 538 999 974 115  58 815 913\n",
      " 852 226 189 302 270 840 426 787 820 834 648 626 843 644 624 307 321  65\n",
      "  79 997 212 862 879 313 291 449 792 734 906  30 176 809 916 977 510  89\n",
      " 679 954 865 687 273 776  60 640 709 766]\n"
     ]
    }
   ],
   "source": [
    "# Create a rank 1 ndarray that contains a random permutation of the row indices of `X_norm`\n",
    "import numpy as np\n",
    "\n",
    "# Create a 1000 x 20 ndarray with random integers.\n",
    "X = np.random.randint(0, 5001, (1000, 20))\n",
    "\n",
    "# Calculate the mean normalized version of X.\n",
    "X_norm = X / np.std(X, axis=0)\n",
    "\n",
    "# Get the number of rows in X_norm.\n",
    "num_rows = X_norm.shape[0]\n",
    "\n",
    "# Create a random permutation of the row indices.\n",
    "row_indices = np.random.permutation(num_rows)\n",
    "\n",
    "print(row_indices)\n",
    "\n"
   ]
  },
  {
   "cell_type": "markdown",
   "metadata": {},
   "source": [
    "Now you can create the three datasets using the `row_indices` ndarray to select the rows that will go into each dataset. Rememeber that the Training Set contains 60% of the data, the Cross Validation Set contains 20% of the data, and the Test Set contains 20% of the data. Each set requires just one line of code to create. Fill in the code below"
   ]
  },
  {
   "cell_type": "code",
   "execution_count": 11,
   "metadata": {},
   "outputs": [],
   "source": [
    "# Make any necessary calculations.\n",
    "# You can save your calculations into variables to use later.\n",
    "\n",
    "# Calculate the split ratio for the training set, cross-validation set, and test set.\n",
    "split_ratio = 0.6\n",
    "cross_val_ratio = 0.2\n",
    "test_ratio = 0.2\n",
    "\n",
    "# Calculate the number of rows in the training set, cross-validation set, and test set.\n",
    "num_train_rows = int(num_rows * split_ratio)\n",
    "num_cross_val_rows = int(num_rows * cross_val_ratio)\n",
    "num_test_rows = int(num_rows * test_ratio)\n",
    "\n",
    "\n",
    "# Create a Training Set\n",
    "X_train = X_norm[row_indices[:num_train_rows]]\n",
    "\n",
    "# Create a Cross Validation Set\n",
    "X_crossVal =  X_norm[row_indices[num_train_rows:num_train_rows + num_cross_val_rows]]\n",
    "\n",
    "# Create a Test Set\n",
    "X_test = X_norm[row_indices[num_train_rows + num_cross_val_rows:]]"
   ]
  },
  {
   "cell_type": "markdown",
   "metadata": {},
   "source": [
    "If you performed the above calculations correctly, then `X_tain` should have 600 rows and 20 columns, `X_crossVal` should have 200 rows and 20 columns, and `X_test` should have 200 rows and 20 columns. You can verify this by filling the code below:"
   ]
  },
  {
   "cell_type": "code",
   "execution_count": 12,
   "metadata": {},
   "outputs": [
    {
     "name": "stdout",
     "output_type": "stream",
     "text": [
      "(600, 20)\n",
      "(200, 20)\n",
      "(200, 20)\n"
     ]
    }
   ],
   "source": [
    "# Print the shape of X_train\n",
    "print(X_train.shape)\n",
    "\n",
    "\n",
    "# Print the shape of X_crossVal\n",
    "print(X_crossVal.shape)\n",
    "\n",
    "\n",
    "# Print the shape of X_test\n",
    "print(X_test.shape)\n"
   ]
  },
  {
   "cell_type": "code",
   "execution_count": null,
   "metadata": {},
   "outputs": [],
   "source": []
  }
 ],
 "metadata": {
  "kernelspec": {
   "display_name": "Python 3 (ipykernel)",
   "language": "python",
   "name": "python3"
  },
  "language_info": {
   "codemirror_mode": {
    "name": "ipython",
    "version": 3
   },
   "file_extension": ".py",
   "mimetype": "text/x-python",
   "name": "python",
   "nbconvert_exporter": "python",
   "pygments_lexer": "ipython3",
   "version": "3.9.13"
  }
 },
 "nbformat": 4,
 "nbformat_minor": 2
}
